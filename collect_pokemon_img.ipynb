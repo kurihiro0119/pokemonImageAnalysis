{
 "cells": [
  {
   "cell_type": "code",
   "execution_count": 1,
   "metadata": {},
   "outputs": [
    {
     "output_type": "error",
     "ename": "ModuleNotFoundError",
     "evalue": "No module named 'icrawler'",
     "traceback": [
      "\u001b[0;31m---------------------------------------------------------------------------\u001b[0m",
      "\u001b[0;31mModuleNotFoundError\u001b[0m                       Traceback (most recent call last)",
      "\u001b[0;32m<ipython-input-1-66e1baa2f807>\u001b[0m in \u001b[0;36m<module>\u001b[0;34m\u001b[0m\n\u001b[1;32m      3\u001b[0m \u001b[0;32mimport\u001b[0m \u001b[0mrandom\u001b[0m\u001b[0;34m\u001b[0m\u001b[0;34m\u001b[0m\u001b[0m\n\u001b[1;32m      4\u001b[0m \u001b[0;32mimport\u001b[0m \u001b[0mshutil\u001b[0m\u001b[0;34m\u001b[0m\u001b[0;34m\u001b[0m\u001b[0m\n\u001b[0;32m----> 5\u001b[0;31m \u001b[0;32mfrom\u001b[0m \u001b[0micrawler\u001b[0m\u001b[0;34m.\u001b[0m\u001b[0mbuiltin\u001b[0m \u001b[0;32mimport\u001b[0m \u001b[0mGoogleImageCrawler\u001b[0m\u001b[0;34m\u001b[0m\u001b[0;34m\u001b[0m\u001b[0m\n\u001b[0m",
      "\u001b[0;31mModuleNotFoundError\u001b[0m: No module named 'icrawler'"
     ]
    }
   ],
   "source": [
    "import os\n",
    "import glob\n",
    "import random\n",
    "import shutil\n",
    "from icrawler.builtin import GoogleImageCrawler"
   ]
  },
  {
   "cell_type": "code",
   "execution_count": 2,
   "metadata": {},
   "outputs": [],
   "source": [
    "#画像を保存するルートディレクトリ\n",
    "root_dir = 'pokemon/'\n",
    "#魚画像検索キーワードリスト\n",
    "pokemonnames = ['ピカチュウ','ゼニガメ','ヒトカゲ','フシギダネ','カビゴン']\n",
    "\n",
    "#収集画像データ数\n",
    "data_count = 100"
   ]
  },
  {
   "cell_type": "code",
   "execution_count": 3,
   "metadata": {},
   "outputs": [],
   "source": [
    "def crawl_image(pokemonname, data_count, root_dir):\n",
    "    \n",
    "    crawler = GoogleImageCrawler(storage={'root_dir':root_dir + pokemonname + '/train'})\n",
    "    \n",
    "    filters = dict(\n",
    "        size = 'large',\n",
    "        type = 'photo'\n",
    "    )\n",
    "    \n",
    "    #クローリングの実行\n",
    "    crawler.crawl(\n",
    "        keyword=pokemonname,\n",
    "        filters=filters,\n",
    "        max_num=data_count\n",
    "    )\n",
    "    \n",
    "    #前回実行時のtestディレクトリが存在する場合、ファイルをすべて削除する\n",
    "    \n",
    "    if os.path.isdir(root_dir + pokemonname + '/test'):\n",
    "        shutil.rmtree(root_dir + pokemonname + '/test')\n",
    "    os.makedirs(root_dir + pokemonname + '/test')\n",
    "    \n",
    "    #ダウンロードファイルのリストを取得\n",
    "    filelist = glob.glob(root_dir + pokemonname + '/train/*')\n",
    "    #ダウンロード数の2割をtestデータとして抽出\n",
    "    test_ratio = 0.2\n",
    "    testfiles = random.sample(filelist, int(len(filelist) * test_ratio))\n",
    "    \n",
    "    for testfile in testfiles:\n",
    "        shutil.move(testfile, root_dir + pokemonname + '/test/')"
   ]
  },
  {
   "cell_type": "code",
   "execution_count": 4,
   "metadata": {},
   "outputs": [
    {
     "output_type": "error",
     "ename": "NameError",
     "evalue": "name 'GoogleImageCrawler' is not defined",
     "traceback": [
      "\u001b[0;31m---------------------------------------------------------------------------\u001b[0m",
      "\u001b[0;31mNameError\u001b[0m                                 Traceback (most recent call last)",
      "\u001b[0;32m<ipython-input-4-679e0d9cfc1b>\u001b[0m in \u001b[0;36m<module>\u001b[0;34m\u001b[0m\n\u001b[1;32m      1\u001b[0m \u001b[0;31m#魚画像キーワードの数だけクローニングを実行\u001b[0m\u001b[0;34m\u001b[0m\u001b[0;34m\u001b[0m\u001b[0;34m\u001b[0m\u001b[0m\n\u001b[1;32m      2\u001b[0m \u001b[0;32mfor\u001b[0m \u001b[0mpokemonname\u001b[0m \u001b[0;32min\u001b[0m \u001b[0mpokemonnames\u001b[0m\u001b[0;34m:\u001b[0m\u001b[0;34m\u001b[0m\u001b[0;34m\u001b[0m\u001b[0m\n\u001b[0;32m----> 3\u001b[0;31m     \u001b[0mcrawl_image\u001b[0m\u001b[0;34m(\u001b[0m\u001b[0mpokemonname\u001b[0m\u001b[0;34m,\u001b[0m \u001b[0mdata_count\u001b[0m\u001b[0;34m,\u001b[0m \u001b[0mroot_dir\u001b[0m\u001b[0;34m)\u001b[0m\u001b[0;34m\u001b[0m\u001b[0;34m\u001b[0m\u001b[0m\n\u001b[0m",
      "\u001b[0;32m<ipython-input-3-90155eeb452f>\u001b[0m in \u001b[0;36mcrawl_image\u001b[0;34m(pokemonname, data_count, root_dir)\u001b[0m\n\u001b[1;32m      1\u001b[0m \u001b[0;32mdef\u001b[0m \u001b[0mcrawl_image\u001b[0m\u001b[0;34m(\u001b[0m\u001b[0mpokemonname\u001b[0m\u001b[0;34m,\u001b[0m \u001b[0mdata_count\u001b[0m\u001b[0;34m,\u001b[0m \u001b[0mroot_dir\u001b[0m\u001b[0;34m)\u001b[0m\u001b[0;34m:\u001b[0m\u001b[0;34m\u001b[0m\u001b[0;34m\u001b[0m\u001b[0m\n\u001b[1;32m      2\u001b[0m \u001b[0;34m\u001b[0m\u001b[0m\n\u001b[0;32m----> 3\u001b[0;31m     \u001b[0mcrawler\u001b[0m \u001b[0;34m=\u001b[0m \u001b[0mGoogleImageCrawler\u001b[0m\u001b[0;34m(\u001b[0m\u001b[0mstorage\u001b[0m\u001b[0;34m=\u001b[0m\u001b[0;34m{\u001b[0m\u001b[0;34m'root_dir'\u001b[0m\u001b[0;34m:\u001b[0m\u001b[0mroot_dir\u001b[0m \u001b[0;34m+\u001b[0m \u001b[0mpokemonname\u001b[0m \u001b[0;34m+\u001b[0m \u001b[0;34m'/train'\u001b[0m\u001b[0;34m}\u001b[0m\u001b[0;34m)\u001b[0m\u001b[0;34m\u001b[0m\u001b[0;34m\u001b[0m\u001b[0m\n\u001b[0m\u001b[1;32m      4\u001b[0m \u001b[0;34m\u001b[0m\u001b[0m\n\u001b[1;32m      5\u001b[0m     filters = dict(\n",
      "\u001b[0;31mNameError\u001b[0m: name 'GoogleImageCrawler' is not defined"
     ]
    }
   ],
   "source": [
    "#ポケモン画像キーワードの数だけクローニングを実行\n",
    "for pokemonname in pokemonnames:\n",
    "    crawl_image(pokemonname, data_count, root_dir)"
   ]
  },
  {
   "cell_type": "code",
   "execution_count": null,
   "metadata": {},
   "outputs": [],
   "source": []
  },
  {
   "cell_type": "code",
   "execution_count": null,
   "metadata": {},
   "outputs": [],
   "source": []
  }
 ],
 "metadata": {
  "kernelspec": {
   "display_name": "Python 3",
   "language": "python",
   "name": "python3"
  },
  "language_info": {
   "codemirror_mode": {
    "name": "ipython",
    "version": 3
   },
   "file_extension": ".py",
   "mimetype": "text/x-python",
   "name": "python",
   "nbconvert_exporter": "python",
   "pygments_lexer": "ipython3",
   "version": "3.7.4-final"
  }
 },
 "nbformat": 4,
 "nbformat_minor": 2
}