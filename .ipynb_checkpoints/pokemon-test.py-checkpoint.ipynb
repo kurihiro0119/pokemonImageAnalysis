{
 "cells": [
  {
   "cell_type": "code",
   "execution_count": 1,
   "metadata": {},
   "outputs": [
    {
     "name": "stdout",
     "output_type": "stream",
     "text": [
      "Requirement already satisfied: azure-cognitiveservices-vision-customvision in /Users/kuriharahironari/opt/anaconda3/envs/py37/lib/python3.7/site-packages (3.0.0)\n",
      "Requirement already satisfied: azure-common~=1.1 in /Users/kuriharahironari/opt/anaconda3/envs/py37/lib/python3.7/site-packages (from azure-cognitiveservices-vision-customvision) (1.1.25)\n",
      "Requirement already satisfied: msrest>=0.5.0 in /Users/kuriharahironari/opt/anaconda3/envs/py37/lib/python3.7/site-packages (from azure-cognitiveservices-vision-customvision) (0.6.18)\n",
      "Requirement already satisfied: requests~=2.16 in /Users/kuriharahironari/opt/anaconda3/envs/py37/lib/python3.7/site-packages (from msrest>=0.5.0->azure-cognitiveservices-vision-customvision) (2.22.0)\n",
      "Requirement already satisfied: requests-oauthlib>=0.5.0 in /Users/kuriharahironari/opt/anaconda3/envs/py37/lib/python3.7/site-packages (from msrest>=0.5.0->azure-cognitiveservices-vision-customvision) (1.3.0)\n",
      "Requirement already satisfied: isodate>=0.6.0 in /Users/kuriharahironari/opt/anaconda3/envs/py37/lib/python3.7/site-packages (from msrest>=0.5.0->azure-cognitiveservices-vision-customvision) (0.6.0)\n",
      "Requirement already satisfied: certifi>=2017.4.17 in /Users/kuriharahironari/opt/anaconda3/envs/py37/lib/python3.7/site-packages (from msrest>=0.5.0->azure-cognitiveservices-vision-customvision) (2019.11.28)\n",
      "Requirement already satisfied: idna<2.9,>=2.5 in /Users/kuriharahironari/opt/anaconda3/envs/py37/lib/python3.7/site-packages (from requests~=2.16->msrest>=0.5.0->azure-cognitiveservices-vision-customvision) (2.8)\n",
      "Requirement already satisfied: chardet<3.1.0,>=3.0.2 in /Users/kuriharahironari/opt/anaconda3/envs/py37/lib/python3.7/site-packages (from requests~=2.16->msrest>=0.5.0->azure-cognitiveservices-vision-customvision) (3.0.4)\n",
      "Requirement already satisfied: urllib3!=1.25.0,!=1.25.1,<1.26,>=1.21.1 in /Users/kuriharahironari/opt/anaconda3/envs/py37/lib/python3.7/site-packages (from requests~=2.16->msrest>=0.5.0->azure-cognitiveservices-vision-customvision) (1.24.3)\n",
      "Requirement already satisfied: oauthlib>=3.0.0 in /Users/kuriharahironari/opt/anaconda3/envs/py37/lib/python3.7/site-packages (from requests-oauthlib>=0.5.0->msrest>=0.5.0->azure-cognitiveservices-vision-customvision) (3.1.0)\n",
      "Requirement already satisfied: six in /Users/kuriharahironari/opt/anaconda3/envs/py37/lib/python3.7/site-packages (from isodate>=0.6.0->msrest>=0.5.0->azure-cognitiveservices-vision-customvision) (1.13.0)\n",
      "Note: you may need to restart the kernel to use updated packages.\n"
     ]
    }
   ],
   "source": [
    "pip install azure-cognitiveservices-vision-customvision\n"
   ]
  },
  {
   "cell_type": "code",
   "execution_count": 2,
   "metadata": {},
   "outputs": [],
   "source": [
    "import glob\n",
    "from azure.cognitiveservices.vision.customvision.prediction import CustomVisionPredictionClient\n",
    "from msrest.authentication import ApiKeyCredentials\n",
    "import requests\n",
    "import json"
   ]
  },
  {
   "cell_type": "code",
   "execution_count": 3,
   "metadata": {},
   "outputs": [],
   "source": [
    "base_url = 'https://hiku-fish-model.cognitiveservices.azure.com/customvision/v3.0/Prediction/5fff1e17-d352-4717-a411-ff2ba1dc20d7/classify/iterations/Iteration1/image'\n",
    "prediction_key = 'b867ca7a5601437e9d9654534360c522'"
   ]
  },
  {
   "cell_type": "code",
   "execution_count": 4,
   "metadata": {},
   "outputs": [
    {
     "name": "stdout",
     "output_type": "stream",
     "text": [
      "ポケモン名:ピカチュウ\n",
      "正解率:100.0%\n",
      "ポケモン名:ゼニガメ\n",
      "正解率:92.85714285714286%\n",
      "ポケモン名:ヒトカゲ\n",
      "正解率:94.73684210526315%\n",
      "ポケモン名:フシギダネ\n",
      "正解率:88.23529411764706%\n",
      "ポケモン名:カビゴン\n",
      "正解率:89.47368421052632%\n"
     ]
    }
   ],
   "source": [
    "poke_root_dir = 'pokemon/'\n",
    "# 検証対象のポケモン名一覧\n",
    "pokemonnames = ['ピカチュウ','ゼニガメ','ヒトカゲ','フシギダネ','カビゴン']\n",
    "\n",
    "for pokename in pokemonnames:\n",
    "    testfiles = glob.glob(poke_root_dir + pokename + '/test/*')\n",
    "    data_count = len(testfiles)\n",
    "    true_count = 0\n",
    "    \n",
    "    for testfile in testfiles:\n",
    "        headers = {\n",
    "            'Content-Type': 'application/json',    \n",
    "            'Prediction-Key': prediction_key\n",
    "        }\n",
    "        \n",
    "        params = {}\n",
    "        predicts = {}\n",
    "        data = open(testfile, 'rb').read()\n",
    "        response = requests.post(base_url, headers=headers, params=params, data=data)\n",
    "        results = json.loads(response.text)\n",
    "        \n",
    "        try:\n",
    "            # 予測結果のタグの数だけループ　…③\n",
    "            for prediction in results['predictions']:\n",
    "                # 予測したポケモンとその確率を紐づけて格納　…④\n",
    "                predicts[prediction['tagName']] = prediction['probability']\n",
    "            # 一番確率の高いポケモンを予測結果として選択　…⑤\n",
    "            prediction_result = max(predicts, key=predicts.get)\n",
    "        \n",
    "            # 予測結果が合っていれば正解数を増やす\n",
    "            if pokename == prediction_result:\n",
    "                true_count += 1\n",
    "\n",
    "        #画像サイズ > 6MB だとCustom Vision の制限にひっかりエラーが出るまで握り潰し\n",
    "        except KeyError:\n",
    "            data_count -= 1\n",
    "            continue\n",
    "    \n",
    "    # 正解率の算出\n",
    "    accuracy = (true_count / data_count) * 100\n",
    "    print('ポケモン名:' + pokename)\n",
    "    print('正解率:' + str(accuracy) + '%')"
   ]
  },
  {
   "cell_type": "code",
   "execution_count": null,
   "metadata": {},
   "outputs": [],
   "source": []
  }
 ],
 "metadata": {
  "kernelspec": {
   "display_name": "Python 3",
   "language": "python",
   "name": "python3"
  },
  "language_info": {
   "codemirror_mode": {
    "name": "ipython",
    "version": 3
   },
   "file_extension": ".py",
   "mimetype": "text/x-python",
   "name": "python",
   "nbconvert_exporter": "python",
   "pygments_lexer": "ipython3",
   "version": "3.7.4"
  }
 },
 "nbformat": 4,
 "nbformat_minor": 2
}
